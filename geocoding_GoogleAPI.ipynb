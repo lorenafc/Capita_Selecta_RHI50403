{
  "cells": [
    {
      "cell_type": "markdown",
      "metadata": {
        "id": "view-in-github",
        "colab_type": "text"
      },
      "source": [
        "<a href=\"https://colab.research.google.com/github/lorenafc/Capita_Selecta_RHI50403/blob/main/geocoding_GoogleAPI.ipynb\" target=\"_parent\"><img src=\"https://colab.research.google.com/assets/colab-badge.svg\" alt=\"Open In Colab\"/></a>"
      ]
    },
    {
      "cell_type": "code",
      "execution_count": null,
      "metadata": {
        "id": "LlSj2Fc7T3N7",
        "colab": {
          "base_uri": "https://localhost:8080/"
        },
        "outputId": "954db20e-e964-46a6-85a5-238462102a36"
      },
      "outputs": [
        {
          "output_type": "stream",
          "name": "stdout",
          "text": [
            "  Preparing metadata (setup.py) ... \u001b[?25l\u001b[?25hdone\n",
            "  Building wheel for googlemaps (setup.py) ... \u001b[?25l\u001b[?25hdone\n"
          ]
        }
      ],
      "source": [
        "pip install googlemaps -q\n"
      ]
    },
    {
      "cell_type": "code",
      "execution_count": null,
      "metadata": {
        "id": "SqQ6nPnqUWPA"
      },
      "outputs": [],
      "source": [
        "import googlemaps\n",
        "import pandas as pd\n",
        "import time\n",
        "import logging\n",
        "from tqdm import tqdm"
      ]
    },
    {
      "cell_type": "code",
      "execution_count": null,
      "metadata": {
        "colab": {
          "base_uri": "https://localhost:8080/"
        },
        "id": "vRCA6DTdfyos",
        "outputId": "9e4d0a25-98c6-461a-efaf-410bd8428db6"
      },
      "outputs": [
        {
          "output_type": "stream",
          "name": "stdout",
          "text": [
            "Mounted at /content/drive\n"
          ]
        }
      ],
      "source": [
        "from google.colab import drive\n",
        "drive.mount('/content/drive')"
      ]
    },
    {
      "cell_type": "code",
      "execution_count": null,
      "metadata": {
        "colab": {
          "base_uri": "https://localhost:8080/",
          "height": 73
        },
        "id": "8FZ7qqjh6Xwy",
        "outputId": "6674e257-2e1d-45ad-ad34-12b65b767d90"
      },
      "outputs": [
        {
          "output_type": "display_data",
          "data": {
            "text/plain": [
              "<IPython.core.display.HTML object>"
            ],
            "text/html": [
              "\n",
              "     <input type=\"file\" id=\"files-f125566d-3cb5-4d4e-9887-e88186ed222f\" name=\"files[]\" multiple disabled\n",
              "        style=\"border:none\" />\n",
              "     <output id=\"result-f125566d-3cb5-4d4e-9887-e88186ed222f\">\n",
              "      Upload widget is only available when the cell has been executed in the\n",
              "      current browser session. Please rerun this cell to enable.\n",
              "      </output>\n",
              "      <script>// Copyright 2017 Google LLC\n",
              "//\n",
              "// Licensed under the Apache License, Version 2.0 (the \"License\");\n",
              "// you may not use this file except in compliance with the License.\n",
              "// You may obtain a copy of the License at\n",
              "//\n",
              "//      http://www.apache.org/licenses/LICENSE-2.0\n",
              "//\n",
              "// Unless required by applicable law or agreed to in writing, software\n",
              "// distributed under the License is distributed on an \"AS IS\" BASIS,\n",
              "// WITHOUT WARRANTIES OR CONDITIONS OF ANY KIND, either express or implied.\n",
              "// See the License for the specific language governing permissions and\n",
              "// limitations under the License.\n",
              "\n",
              "/**\n",
              " * @fileoverview Helpers for google.colab Python module.\n",
              " */\n",
              "(function(scope) {\n",
              "function span(text, styleAttributes = {}) {\n",
              "  const element = document.createElement('span');\n",
              "  element.textContent = text;\n",
              "  for (const key of Object.keys(styleAttributes)) {\n",
              "    element.style[key] = styleAttributes[key];\n",
              "  }\n",
              "  return element;\n",
              "}\n",
              "\n",
              "// Max number of bytes which will be uploaded at a time.\n",
              "const MAX_PAYLOAD_SIZE = 100 * 1024;\n",
              "\n",
              "function _uploadFiles(inputId, outputId) {\n",
              "  const steps = uploadFilesStep(inputId, outputId);\n",
              "  const outputElement = document.getElementById(outputId);\n",
              "  // Cache steps on the outputElement to make it available for the next call\n",
              "  // to uploadFilesContinue from Python.\n",
              "  outputElement.steps = steps;\n",
              "\n",
              "  return _uploadFilesContinue(outputId);\n",
              "}\n",
              "\n",
              "// This is roughly an async generator (not supported in the browser yet),\n",
              "// where there are multiple asynchronous steps and the Python side is going\n",
              "// to poll for completion of each step.\n",
              "// This uses a Promise to block the python side on completion of each step,\n",
              "// then passes the result of the previous step as the input to the next step.\n",
              "function _uploadFilesContinue(outputId) {\n",
              "  const outputElement = document.getElementById(outputId);\n",
              "  const steps = outputElement.steps;\n",
              "\n",
              "  const next = steps.next(outputElement.lastPromiseValue);\n",
              "  return Promise.resolve(next.value.promise).then((value) => {\n",
              "    // Cache the last promise value to make it available to the next\n",
              "    // step of the generator.\n",
              "    outputElement.lastPromiseValue = value;\n",
              "    return next.value.response;\n",
              "  });\n",
              "}\n",
              "\n",
              "/**\n",
              " * Generator function which is called between each async step of the upload\n",
              " * process.\n",
              " * @param {string} inputId Element ID of the input file picker element.\n",
              " * @param {string} outputId Element ID of the output display.\n",
              " * @return {!Iterable<!Object>} Iterable of next steps.\n",
              " */\n",
              "function* uploadFilesStep(inputId, outputId) {\n",
              "  const inputElement = document.getElementById(inputId);\n",
              "  inputElement.disabled = false;\n",
              "\n",
              "  const outputElement = document.getElementById(outputId);\n",
              "  outputElement.innerHTML = '';\n",
              "\n",
              "  const pickedPromise = new Promise((resolve) => {\n",
              "    inputElement.addEventListener('change', (e) => {\n",
              "      resolve(e.target.files);\n",
              "    });\n",
              "  });\n",
              "\n",
              "  const cancel = document.createElement('button');\n",
              "  inputElement.parentElement.appendChild(cancel);\n",
              "  cancel.textContent = 'Cancel upload';\n",
              "  const cancelPromise = new Promise((resolve) => {\n",
              "    cancel.onclick = () => {\n",
              "      resolve(null);\n",
              "    };\n",
              "  });\n",
              "\n",
              "  // Wait for the user to pick the files.\n",
              "  const files = yield {\n",
              "    promise: Promise.race([pickedPromise, cancelPromise]),\n",
              "    response: {\n",
              "      action: 'starting',\n",
              "    }\n",
              "  };\n",
              "\n",
              "  cancel.remove();\n",
              "\n",
              "  // Disable the input element since further picks are not allowed.\n",
              "  inputElement.disabled = true;\n",
              "\n",
              "  if (!files) {\n",
              "    return {\n",
              "      response: {\n",
              "        action: 'complete',\n",
              "      }\n",
              "    };\n",
              "  }\n",
              "\n",
              "  for (const file of files) {\n",
              "    const li = document.createElement('li');\n",
              "    li.append(span(file.name, {fontWeight: 'bold'}));\n",
              "    li.append(span(\n",
              "        `(${file.type || 'n/a'}) - ${file.size} bytes, ` +\n",
              "        `last modified: ${\n",
              "            file.lastModifiedDate ? file.lastModifiedDate.toLocaleDateString() :\n",
              "                                    'n/a'} - `));\n",
              "    const percent = span('0% done');\n",
              "    li.appendChild(percent);\n",
              "\n",
              "    outputElement.appendChild(li);\n",
              "\n",
              "    const fileDataPromise = new Promise((resolve) => {\n",
              "      const reader = new FileReader();\n",
              "      reader.onload = (e) => {\n",
              "        resolve(e.target.result);\n",
              "      };\n",
              "      reader.readAsArrayBuffer(file);\n",
              "    });\n",
              "    // Wait for the data to be ready.\n",
              "    let fileData = yield {\n",
              "      promise: fileDataPromise,\n",
              "      response: {\n",
              "        action: 'continue',\n",
              "      }\n",
              "    };\n",
              "\n",
              "    // Use a chunked sending to avoid message size limits. See b/62115660.\n",
              "    let position = 0;\n",
              "    do {\n",
              "      const length = Math.min(fileData.byteLength - position, MAX_PAYLOAD_SIZE);\n",
              "      const chunk = new Uint8Array(fileData, position, length);\n",
              "      position += length;\n",
              "\n",
              "      const base64 = btoa(String.fromCharCode.apply(null, chunk));\n",
              "      yield {\n",
              "        response: {\n",
              "          action: 'append',\n",
              "          file: file.name,\n",
              "          data: base64,\n",
              "        },\n",
              "      };\n",
              "\n",
              "      let percentDone = fileData.byteLength === 0 ?\n",
              "          100 :\n",
              "          Math.round((position / fileData.byteLength) * 100);\n",
              "      percent.textContent = `${percentDone}% done`;\n",
              "\n",
              "    } while (position < fileData.byteLength);\n",
              "  }\n",
              "\n",
              "  // All done.\n",
              "  yield {\n",
              "    response: {\n",
              "      action: 'complete',\n",
              "    }\n",
              "  };\n",
              "}\n",
              "\n",
              "scope.google = scope.google || {};\n",
              "scope.google.colab = scope.google.colab || {};\n",
              "scope.google.colab._files = {\n",
              "  _uploadFiles,\n",
              "  _uploadFilesContinue,\n",
              "};\n",
              "})(self);\n",
              "</script> "
            ]
          },
          "metadata": {}
        },
        {
          "output_type": "stream",
          "name": "stdout",
          "text": [
            "Saving merged_not_geocoded.xlsx to merged_not_geocoded.xlsx\n"
          ]
        }
      ],
      "source": [
        "# upload the file\n",
        "from google.colab import files\n",
        "uploaded=files.upload()"
      ]
    },
    {
      "cell_type": "code",
      "execution_count": null,
      "metadata": {
        "id": "Vgx8yxZ2JPC_"
      },
      "outputs": [],
      "source": [
        "file_name = 'file_not_geocoded.xlsx'\n",
        "\n",
        "# Read the Excel file\n",
        "authors_small_cities = pd.read_excel(file_name, engine='openpyxl')\n",
        "\n"
      ]
    },
    {
      "cell_type": "code",
      "execution_count": null,
      "metadata": {
        "id": "Q4jZ6IinD_5E"
      },
      "outputs": [],
      "source": [
        "smalldataset_ten_thousand_cleaned = authors_small_cities.copy()"
      ]
    },
    {
      "cell_type": "code",
      "execution_count": 1,
      "metadata": {
        "colab": {
          "base_uri": "https://localhost:8080/",
          "height": 211
        },
        "id": "gH6GCmi9YZgT",
        "outputId": "cf31fe91-9d90-4e2a-b276-80bfb80079c8",
        "collapsed": true
      },
      "outputs": [
        {
          "output_type": "error",
          "ename": "NameError",
          "evalue": "name 'logging' is not defined",
          "traceback": [
            "\u001b[0;31m---------------------------------------------------------------------------\u001b[0m",
            "\u001b[0;31mNameError\u001b[0m                                 Traceback (most recent call last)",
            "\u001b[0;32m<ipython-input-1-951944076aa9>\u001b[0m in \u001b[0;36m<cell line: 2>\u001b[0;34m()\u001b[0m\n\u001b[1;32m      1\u001b[0m \u001b[0;31m# Initialize logging\u001b[0m\u001b[0;34m\u001b[0m\u001b[0;34m\u001b[0m\u001b[0m\n\u001b[0;32m----> 2\u001b[0;31m \u001b[0mlogging\u001b[0m\u001b[0;34m.\u001b[0m\u001b[0mbasicConfig\u001b[0m\u001b[0;34m(\u001b[0m\u001b[0mlevel\u001b[0m\u001b[0;34m=\u001b[0m\u001b[0mlogging\u001b[0m\u001b[0;34m.\u001b[0m\u001b[0mINFO\u001b[0m\u001b[0;34m,\u001b[0m \u001b[0mformat\u001b[0m\u001b[0;34m=\u001b[0m\u001b[0;34m'%(asctime)s - %(levelname)s - %(message)s'\u001b[0m\u001b[0;34m)\u001b[0m\u001b[0;34m\u001b[0m\u001b[0;34m\u001b[0m\u001b[0m\n\u001b[0m\u001b[1;32m      3\u001b[0m \u001b[0;34m\u001b[0m\u001b[0m\n\u001b[1;32m      4\u001b[0m \u001b[0;31m# Initialize Google Maps client with your API key\u001b[0m\u001b[0;34m\u001b[0m\u001b[0;34m\u001b[0m\u001b[0m\n\u001b[1;32m      5\u001b[0m \u001b[0mAPI_KEY\u001b[0m \u001b[0;34m=\u001b[0m \u001b[0;34m'YOUR_GOOGLE_API_KEY'\u001b[0m\u001b[0;34m\u001b[0m\u001b[0;34m\u001b[0m\u001b[0m\n",
            "\u001b[0;31mNameError\u001b[0m: name 'logging' is not defined"
          ]
        }
      ],
      "source": [
        "# Initialize logging\n",
        "logging.basicConfig(level=logging.INFO, format='%(asctime)s - %(levelname)s - %(message)s')\n",
        "\n",
        "# Initialize Google Maps client with your API key\n",
        "API_KEY = 'YOUR_GOOGLE_API_KEY'\n",
        "gmaps = googlemaps.Client(key=API_KEY)\n",
        "\n",
        "# Function to geocode city names with error handling and rate limiting\n",
        "def geocode_city(city_name):\n",
        "    try:\n",
        "        # Rate limiting\n",
        "        time.sleep(1)\n",
        "        # Attempt to geocode the city name with a timeout\n",
        "        geocode_result = gmaps.geocode(city_name)\n",
        "        if geocode_result:\n",
        "            location = geocode_result[0]['geometry']['location']\n",
        "            return (city_name, location['lat'], location['lng'])\n",
        "        else:\n",
        "            logging.warning(f\"Geocoding failed for: {city_name}\")\n",
        "            return (city_name, None, None)\n",
        "    except Exception as e:\n",
        "        logging.error(f\"Geocoding error for {city_name}: {e}\")\n",
        "        return (city_name, None, None)\n",
        "\n",
        "# Function to geocode a column of city names and map the results back to the DataFrame\n",
        "def geocode_column(df, column_name, lat_col_name, lon_col_name):\n",
        "    # Filter out rows where the column is NaN\n",
        "    df_filtered = df.dropna(subset=[column_name])\n",
        "\n",
        "    # Extract unique city names from the DataFrame column\n",
        "    unique_cities = list(set(df_filtered[column_name]))\n",
        "\n",
        "    # Geocode unique city names with progress tracking\n",
        "    geocoded_results = [geocode_city(city) for city in tqdm(unique_cities, desc=f'Geocoding {column_name}')]\n",
        "\n",
        "    # Create a dictionary to map city names to their geocoded coordinates\n",
        "    geocode_dict = {result[0]: (result[1], result[2]) for result in geocoded_results}\n",
        "\n",
        "    # Map geocoded coordinates back to the original DataFrame\n",
        "    df[f'{column_name}_coordinates'] = df[column_name].map(geocode_dict)\n",
        "\n",
        "    # Ensure coordinates are always tuples with two elements\n",
        "    df[f'{column_name}_coordinates'] = df[f'{column_name}_coordinates'].apply(lambda x: (x if isinstance(x, tuple) else (None, None)))\n",
        "\n",
        "    # Extract latitude and longitude from coordinates, filling NaN where necessary\n",
        "    df[[lat_col_name, lon_col_name]] = df[f'{column_name}_coordinates'].apply(pd.Series)\n",
        "\n",
        "    # Drop the coordinates column\n",
        "    df.drop(columns=[f'{column_name}_coordinates'], inplace=True)\n",
        "\n",
        "    return df\n",
        "\n",
        "# Geocode activecity, borncity, and deathcity columns with distinct names for latitude and longitude\n",
        "columns_to_geocode = [\n",
        "    ('borncity', 'latitude_born', 'longitude_born'),\n",
        "    ('deathcity', 'latitude_death', 'longitude_death'),\n",
        "    ('activecity', 'latitude_active', 'longitude_active')\n",
        "]\n",
        "\n",
        "# Assuming smalldataset_ten_thousand_cleaned is your DataFrame\n",
        "for column, lat_col, lon_col in columns_to_geocode:\n",
        "    smalldataset_ten_thousand_cleaned = geocode_column(smalldataset_ten_thousand_cleaned, column, lat_col, lon_col)\n",
        "\n",
        "# Display the df with geocoded coordinates\n",
        "print(smalldataset_ten_thousand_cleaned.head(15))\n",
        "\n",
        "\n",
        "# Specify the path in Google Drive\n",
        "file_path = '/content/drive/My Drive/geocoded_GoogleAPI.xlsx'\n",
        "\n",
        "# Save also the df to an Excel file in Google Drive\n",
        "smalldataset_ten_thousand_cleaned.to_excel(file_path)\n",
        "\n",
        "# export the result as excel file\n",
        "file_name = 'authors_cities_geocoded_GoogleAPI.xlsx'\n",
        "smalldataset_ten_thousand_cleaned.to_excel(file_name)\n"
      ]
    }
  ],
  "metadata": {
    "colab": {
      "provenance": [],
      "authorship_tag": "ABX9TyMdFJBQkNflTXeD/vJPmtqC",
      "include_colab_link": true
    },
    "kernelspec": {
      "display_name": "Python 3",
      "name": "python3"
    },
    "language_info": {
      "name": "python"
    }
  },
  "nbformat": 4,
  "nbformat_minor": 0
}